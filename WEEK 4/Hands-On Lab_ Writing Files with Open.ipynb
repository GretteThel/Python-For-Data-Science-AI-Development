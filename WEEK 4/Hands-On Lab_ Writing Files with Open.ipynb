{
 "cells": [
  {
   "cell_type": "raw",
   "id": "9f3e62fc",
   "metadata": {},
   "source": [
    "<p style=\"text-align:center\">\n",
    "    <a href=\"https://skills.network\" target=\"_blank\">\n",
    "    <img src=\"https://cf-courses-data.s3.us.cloud-object-storage.appdomain.cloud/assets/logos/SN_web_lightmode.png\" width=\"200\" alt=\"Skills Network Logo\">\n",
    "    </a>\n",
    "</p>\n",
    "\n",
    "\n",
    "# Write and Save Files in Python\n",
    "\n",
    "\n",
    "Estimated time needed: **30** minutes\n",
    "    \n",
    "\n",
    "## Objectives\n",
    "\n",
    "After completing this lab you will be able to:\n",
    "\n",
    "* Write to files using Python libraries"
   ]
  },
  {
   "cell_type": "markdown",
   "id": "fe8fbc1c",
   "metadata": {},
   "source": [
    "# Table of Contents¶\n",
    "\n",
    "    Writing Files\n",
    "    Appending Files\n",
    "    Additional File modes\n",
    "    Copy a File\n",
    "\n"
   ]
  },
  {
   "cell_type": "markdown",
   "id": "51c7d279",
   "metadata": {},
   "source": [
    "# Writing Files"
   ]
  },
  {
   "cell_type": "markdown",
   "id": "5cbcd033",
   "metadata": {},
   "source": [
    "We can open a file object using the method write() to save the text file to a list. To write to a file, the mode argument must be set to w. Let’s write a file Example2.txt with the line: “This is line A”"
   ]
  },
  {
   "cell_type": "code",
   "execution_count": null,
   "id": "b4260642",
   "metadata": {},
   "outputs": [],
   "source": [
    "# Write line to file\n",
    "exmp2 = '/Example2.txt'\n",
    "with open(exmp2, 'w') as writefile:\n",
    "    writefile.write(\"This is line A\")"
   ]
  },
  {
   "cell_type": "markdown",
   "id": "0c939b56",
   "metadata": {},
   "source": [
    " We can read the file to see if it worked:\n"
   ]
  },
  {
   "cell_type": "code",
   "execution_count": null,
   "id": "34c28519",
   "metadata": {},
   "outputs": [],
   "source": [
    "# Read file\n",
    "\n",
    "with open(exmp2, 'r') as testwritefile:\n",
    "    print(testwritefile.read())"
   ]
  },
  {
   "cell_type": "raw",
   "id": "4ae6e833",
   "metadata": {},
   "source": [
    "EXPECTED RESULT:\n",
    "\n",
    "This is line A"
   ]
  },
  {
   "cell_type": "markdown",
   "id": "67887c2b",
   "metadata": {},
   "source": [
    "We can write multiple lines:\n"
   ]
  },
  {
   "cell_type": "code",
   "execution_count": null,
   "id": "9f340f7f",
   "metadata": {},
   "outputs": [],
   "source": [
    "# Write lines to file\n",
    "\n",
    "with open(exmp2, 'w') as writefile:\n",
    "    writefile.write(\"This is line A\\n\")\n",
    "    writefile.write(\"This is line B\\n\")"
   ]
  },
  {
   "cell_type": "markdown",
   "id": "7a13fc5c",
   "metadata": {},
   "source": [
    "The method .write() works similar to the method .readline(), except instead of reading a new line it writes a new line. The process is illustrated in the figure. The different colour coding of the grid represents a new line added to the file after each method call."
   ]
  },
  {
   "cell_type": "code",
   "execution_count": null,
   "id": "d749045c",
   "metadata": {},
   "outputs": [],
   "source": [
    "<img src=\"https://cf-courses-data.s3.us.cloud-object-storage.appdomain.cloud/IBMDeveloperSkillsNetwork-PY0101EN-SkillsNetwork/labs/Module%204/images/WriteLine.png\" width=\"500\">\n",
    "\n",
    "\n",
    "\n",
    "\n"
   ]
  },
  {
   "cell_type": "markdown",
   "id": "e32a6aad",
   "metadata": {},
   "source": [
    "You can check the file to see if your results are correct\n"
   ]
  },
  {
   "cell_type": "code",
   "execution_count": null,
   "id": "56968484",
   "metadata": {},
   "outputs": [],
   "source": [
    "# Check whether write to file\n",
    "\n",
    "with open(exmp2, 'r') as testwritefile:\n",
    "    print(testwritefile.read())"
   ]
  },
  {
   "cell_type": "raw",
   "id": "386eb41b",
   "metadata": {},
   "source": [
    "EXPECTED RESULT:\n",
    "    \n",
    "This is line A\n",
    "This is line B"
   ]
  },
  {
   "cell_type": "markdown",
   "id": "cd7a7b39",
   "metadata": {},
   "source": [
    "We write a list to a .txt file as follows:"
   ]
  },
  {
   "cell_type": "code",
   "execution_count": null,
   "id": "86499fce",
   "metadata": {},
   "outputs": [],
   "source": [
    "# Sample list of text\n",
    "\n",
    "Lines = [\"This is line A\\n\", \"This is line B\\n\", \"This is line C\\n\"]\n",
    "Lines"
   ]
  },
  {
   "cell_type": "raw",
   "id": "0230a4f4",
   "metadata": {},
   "source": [
    "EXPECTED RESULT:\n",
    "    \n",
    "['This is line A\\n', 'This is line B\\n', 'This is line C\\n']"
   ]
  },
  {
   "cell_type": "code",
   "execution_count": null,
   "id": "3246f12f",
   "metadata": {},
   "outputs": [],
   "source": [
    "# Write the strings in the list to text file\n",
    "\n",
    "with open('/Example2.txt', 'w') as writefile:\n",
    "    for line in Lines:\n",
    "        print(line)\n",
    "        writefile.write(line)"
   ]
  },
  {
   "cell_type": "raw",
   "id": "09615bd6",
   "metadata": {},
   "source": [
    "THIS SHOULD BE THE RESULT:\n",
    "    \n",
    "This is line A\n",
    "\n",
    "This is line B\n",
    "\n",
    "This is line C"
   ]
  },
  {
   "cell_type": "markdown",
   "id": "e26fd40d",
   "metadata": {},
   "source": [
    "We can verify the file is written by reading it and printing out the values: "
   ]
  },
  {
   "cell_type": "code",
   "execution_count": null,
   "id": "9315fe61",
   "metadata": {},
   "outputs": [],
   "source": [
    "# Verify if writing to file is successfully executed\n",
    "\n",
    "with open('/Example2.txt', 'r') as testwritefile:\n",
    "    print(testwritefile.read())"
   ]
  },
  {
   "cell_type": "raw",
   "id": "b567064d",
   "metadata": {},
   "source": [
    "THIS SHOULD BE THE RESULT:\n",
    "    \n",
    "This is line A\n",
    "This is line B\n",
    "This is line C"
   ]
  },
  {
   "cell_type": "markdown",
   "id": "7fa4a394",
   "metadata": {},
   "source": [
    "However, note that setting the mode to w overwrites all the existing data in the file."
   ]
  },
  {
   "cell_type": "code",
   "execution_count": null,
   "id": "2ac87501",
   "metadata": {},
   "outputs": [],
   "source": [
    "with open('/Example2.txt', 'w') as writefile:\n",
    "    writefile.write(\"Overwrite\\n\")\n",
    "with open('/Example2.txt', 'r') as testwritefile:\n",
    "    print(testwritefile.read())"
   ]
  },
  {
   "cell_type": "raw",
   "id": "6bbcc4a3",
   "metadata": {},
   "source": [
    "THIS SHOULD BE THE RESULT:\n",
    "\n",
    " Overwrite\n",
    "    "
   ]
  },
  {
   "cell_type": "markdown",
   "id": "cbf22bd0",
   "metadata": {},
   "source": [
    "# Appending Files"
   ]
  },
  {
   "cell_type": "markdown",
   "id": "76988500",
   "metadata": {},
   "source": [
    "We can write to files without losing any of the existing data as follows by setting the mode argument to append: a. you can append a new line as follows:"
   ]
  },
  {
   "cell_type": "code",
   "execution_count": null,
   "id": "72a14724",
   "metadata": {},
   "outputs": [],
   "source": [
    "# Write a new line to text file\n",
    "\n",
    "with open('/Example2.txt', 'a') as testwritefile:\n",
    "    testwritefile.write(\"This is line C\\n\")\n",
    "    testwritefile.write(\"This is line D\\n\")\n",
    "    testwritefile.write(\"This is line E\\n\")"
   ]
  },
  {
   "cell_type": "markdown",
   "id": "f821b559",
   "metadata": {},
   "source": [
    "You can verify the file has changed by running the following cell:"
   ]
  },
  {
   "cell_type": "code",
   "execution_count": null,
   "id": "1b91d48e",
   "metadata": {},
   "outputs": [],
   "source": [
    "# Verify if the new line is in the text file\n",
    "\n",
    "with open('/Example2.txt', 'r') as testwritefile:\n",
    "    print(testwritefile.read())"
   ]
  },
  {
   "cell_type": "raw",
   "id": "a3e76a17",
   "metadata": {},
   "source": [
    "THIS SHOULD BE THE ANSWER:\n",
    "    \n",
    "Overwrite\n",
    "This is line C\n",
    "This is line D\n",
    "This is line E"
   ]
  },
  {
   "cell_type": "markdown",
   "id": "3555b684",
   "metadata": {},
   "source": [
    "# Additional modes"
   ]
  },
  {
   "cell_type": "markdown",
   "id": "20ad964c",
   "metadata": {},
   "source": [
    "It's fairly ineffecient to open the file in a or w and then reopening it in r to read any lines. Luckily we can access the file in the following modes:\n",
    "\n",
    "    r+ : Reading and writing. Cannot truncate the file.\n",
    "    w+ : Writing and reading. Truncates the file.\n",
    "    a+ : Appending and Reading. Creates a new file, if none exists. You dont have to dwell on the specifics of each mode for this lab.\n",
    "\n"
   ]
  },
  {
   "cell_type": "markdown",
   "id": "639cdde5",
   "metadata": {},
   "source": [
    "Let's try out the a+ mode:\n",
    "\n"
   ]
  },
  {
   "cell_type": "code",
   "execution_count": null,
   "id": "7f0abae3",
   "metadata": {},
   "outputs": [],
   "source": [
    "with open('/Example2.txt', 'a+') as testwritefile:\n",
    "    testwritefile.write(\"This is line E\\n\")\n",
    "    print(testwritefile.read())"
   ]
  },
  {
   "cell_type": "markdown",
   "id": "ea643f21",
   "metadata": {},
   "source": [
    "There were no errors but read() also did not output anything. This is because of our location in the file.\n"
   ]
  },
  {
   "cell_type": "markdown",
   "id": "739896e6",
   "metadata": {},
   "source": [
    "Most of the file methods we've looked at work in a certain location in the file. <code>.write() </code> writes at a certain location in the file. <code>.read()</code> reads at a certain location in the file and so on. You can think of this as moving your pointer around in the notepad to make changes at specific location."
   ]
  },
  {
   "cell_type": "markdown",
   "id": "3547b50f",
   "metadata": {},
   "source": [
    "Opening the file in w is akin to opening the .txt file, moving your cursor to the beginning of the text file, writing new text and deleting everything that follows. Whereas opening the file in a is similiar to opening the .txt file, moving your cursor to the very end and then adding the new pieces of text.\n",
    "It is often very useful to know where the 'cursor' is in a file and be able to control it. The following methods allow us to do precisely this -\n",
    "\n",
    "    .tell() - returns the current position in bytes\n",
    "    .seek(offset,from) - changes the position by 'offset' bytes with respect to 'from'. From can take the value of 0,1,2 corresponding to beginning, relative to current position and end\n",
    "\n"
   ]
  },
  {
   "cell_type": "markdown",
   "id": "5a7871bd",
   "metadata": {},
   "source": [
    "Now lets revisit a+"
   ]
  },
  {
   "cell_type": "code",
   "execution_count": null,
   "id": "8db816d6",
   "metadata": {},
   "outputs": [],
   "source": [
    "with open('/Example2.txt', 'a+') as testwritefile:\n",
    "    print(\"Initial Location: {}\".format(testwritefile.tell()))\n",
    "    \n",
    "    data = testwritefile.read()\n",
    "    if (not data):  #empty strings return false in python\n",
    "            print('Read nothing') \n",
    "    else: \n",
    "            print(testwritefile.read())\n",
    "            \n",
    "    testwritefile.seek(0,0) # move 0 bytes from beginning.\n",
    "    \n",
    "    print(\"\\nNew Location : {}\".format(testwritefile.tell()))\n",
    "    data = testwritefile.read()\n",
    "    if (not data): \n",
    "            print('Read nothing') \n",
    "    else: \n",
    "            print(data)\n",
    "    \n",
    "    print(\"Location after read: {}\".format(testwritefile.tell()) )"
   ]
  },
  {
   "cell_type": "raw",
   "id": "bde75383",
   "metadata": {},
   "source": [
    "THIS SHOUKD BE THE ANSWER:\n",
    "    \n",
    "Initial Location: 70\n",
    "Read nothing\n",
    "\n",
    "New Location : 0\n",
    "Overwrite\n",
    "This is line C\n",
    "This is line D\n",
    "This is line E\n",
    "This is line E\n",
    "\n",
    "Location after read: 70"
   ]
  },
  {
   "cell_type": "markdown",
   "id": "556d3bf5",
   "metadata": {},
   "source": [
    "Finally, a note on the difference between w+ and r+. Both of these modes allow access to read and write methods, however, opening a file in w+ overwrites it and deletes all pre-existing data.\n",
    "\n",
    "In the following code block, Run the code as it is first and then run it without the .truncate().\n"
   ]
  },
  {
   "cell_type": "code",
   "execution_count": null,
   "id": "9e7e90c1",
   "metadata": {},
   "outputs": [],
   "source": [
    "with open('/Example2.txt', 'r+') as testwritefile:\n",
    "    testwritefile.seek(0,0) #write at beginning of file\n",
    "    testwritefile.write(\"Line 1\" + \"\\n\")\n",
    "    testwritefile.write(\"Line 2\" + \"\\n\")\n",
    "    testwritefile.write(\"Line 3\" + \"\\n\")\n",
    "    testwritefile.write(\"Line 4\" + \"\\n\")\n",
    "    testwritefile.write(\"finished\\n\")\n",
    "    testwritefile.seek(0,0)\n",
    "    print(testwritefile.read())"
   ]
  },
  {
   "cell_type": "raw",
   "id": "05568ad5",
   "metadata": {},
   "source": [
    "THIS SHOULD BE THE ANSWER:\n",
    "    \n",
    "Line 1\n",
    "Line 2\n",
    "Line 3\n",
    "Line 4\n",
    "finished\n",
    " D\n",
    "This is line E\n",
    "This is line E"
   ]
  },
  {
   "cell_type": "markdown",
   "id": "1953bc7f",
   "metadata": {},
   "source": [
    "To work with a file on existing data, use r+ and a+. While using r+, it can be useful to add a .truncate() method at the end of your data. This will reduce the file to your data and delete everything that follows."
   ]
  },
  {
   "cell_type": "code",
   "execution_count": null,
   "id": "4d00841f",
   "metadata": {},
   "outputs": [],
   "source": [
    "with open('/Example2.txt', 'r+') as testwritefile:\n",
    "    testwritefile.seek(0,0) #write at beginning of file\n",
    "    testwritefile.write(\"Line 1\" + \"\\n\")\n",
    "    testwritefile.write(\"Line 2\" + \"\\n\")\n",
    "    testwritefile.write(\"Line 3\" + \"\\n\")\n",
    "    testwritefile.write(\"Line 4\" + \"\\n\")\n",
    "    testwritefile.write(\"finished\\n\")\n",
    "    #Uncomment the line below\n",
    "    testwritefile.truncate()\n",
    "    testwritefile.seek(0,0)\n",
    "    print(testwritefile.read())\n",
    "    "
   ]
  },
  {
   "cell_type": "raw",
   "id": "2df39048",
   "metadata": {},
   "source": [
    "THIS SHOULD BE THE ANSWER:\n",
    "    \n",
    "Line 1\n",
    "Line 2\n",
    "Line 3\n",
    "Line 4\n",
    "finished"
   ]
  },
  {
   "cell_type": "markdown",
   "id": "fabdeb22",
   "metadata": {},
   "source": [
    "# Copy a File"
   ]
  },
  {
   "cell_type": "markdown",
   "id": "b83b7cdc",
   "metadata": {},
   "source": [
    "Let's copy the file Example2.txt to the file Example3.txt:"
   ]
  },
  {
   "cell_type": "code",
   "execution_count": null,
   "id": "0ef66708",
   "metadata": {},
   "outputs": [],
   "source": [
    "# Copy file to another\n",
    "\n",
    "with open('/Example2.txt','r') as readfile:\n",
    "    with open('/Example3.txt','w') as writefile:\n",
    "          for line in readfile:\n",
    "                writefile.write(line)"
   ]
  },
  {
   "cell_type": "markdown",
   "id": "5bd0ef66",
   "metadata": {},
   "source": [
    "We can read the file to see if everything works:"
   ]
  },
  {
   "cell_type": "code",
   "execution_count": null,
   "id": "3ce02357",
   "metadata": {},
   "outputs": [],
   "source": [
    "# Verify if the copy is successfully executed\n",
    "\n",
    "with open('/Example3.txt','r') as testwritefile:\n",
    "    print(testwritefile.read())"
   ]
  },
  {
   "cell_type": "raw",
   "id": "2dc79d88",
   "metadata": {},
   "source": [
    "THIS SHOULD BE THE ANSWER:\n",
    "    \n",
    "Line 1\n",
    "Line 2\n",
    "Line 3\n",
    "Line 4\n",
    "finished\n"
   ]
  },
  {
   "cell_type": "markdown",
   "id": "1582c93e",
   "metadata": {},
   "source": [
    "After reading files, we can also write data into files and save them in different file formats like .txt, .csv, .xls (for excel files) etc. You will come across these in further examples\n"
   ]
  },
  {
   "cell_type": "markdown",
   "id": "548209dc",
   "metadata": {},
   "source": [
    "NOTE: If you wish to open and view the example3.txt file, download this lab here and run it locally on your machine. Then go to the working directory to ensure the example3.txt file exists and contains the summary data that we wrote."
   ]
  },
  {
   "cell_type": "markdown",
   "id": "1bc9dccf",
   "metadata": {},
   "source": [
    "# Exercise "
   ]
  },
  {
   "cell_type": "markdown",
   "id": "e6345907",
   "metadata": {},
   "source": [
    "Your local university's Raptors fan club maintains a register of its active members on a .txt document. Every month they update the file by removing the members who are not active. You have been tasked with automating this with your Python skills.\n",
    "Given the file currentMem, Remove each member with a 'no' in their Active column. Keep track of each of the removed members and append them to the exMem file. Make sure that the format of the original files in preserved. (Hint: Do this by reading/writing whole lines and ensuring the header remains )\n",
    "Run the code block below prior to starting the exercise. The skeleton code has been provided for you. Edit only the cleanFiles function.\n"
   ]
  },
  {
   "cell_type": "code",
   "execution_count": null,
   "id": "efe2f1a1",
   "metadata": {},
   "outputs": [],
   "source": [
    "#Run this prior to starting the exercise\n",
    "from random import randint as rnd\n",
    "\n",
    "memReg = '/members.txt'\n",
    "exReg = '/inactive.txt'\n",
    "fee =('yes','no')\n",
    "\n",
    "def genFiles(current,old):\n",
    "    with open(current,'w+') as writefile: \n",
    "        writefile.write('Membership No  Date Joined  Active  \\n')\n",
    "        data = \"{:^13}  {:<11}  {:<6}\\n\"\n",
    "\n",
    "        for rowno in range(20):\n",
    "            date = str(rnd(2015,2020))+ '-' + str(rnd(1,12))+'-'+str(rnd(1,25))\n",
    "            writefile.write(data.format(rnd(10000,99999),date,fee[rnd(0,1)]))\n",
    "\n",
    "\n",
    "    with open(old,'w+') as writefile: \n",
    "        writefile.write('Membership No  Date Joined  Active  \\n')\n",
    "        data = \"{:^13}  {:<11}  {:<6}\\n\"\n",
    "        for rowno in range(3):\n",
    "            date = str(rnd(2015,2020))+ '-' + str(rnd(1,12))+'-'+str(rnd(1,25))\n",
    "            writefile.write(data.format(rnd(10000,99999),date,fee[1]))\n",
    "\n",
    "\n",
    "genFiles(memReg,exReg)\n"
   ]
  },
  {
   "cell_type": "markdown",
   "id": "3c7f2325",
   "metadata": {},
   "source": [
    "Now that you've run the prerequisite code cell above, which prepared the files for this exercise, you are ready to move on to the implementation."
   ]
  },
  {
   "cell_type": "markdown",
   "id": "8caac2c4",
   "metadata": {},
   "source": [
    "Exercise: Implement the cleanFiles function in the code cell below."
   ]
  },
  {
   "cell_type": "code",
   "execution_count": null,
   "id": "6715f0f2",
   "metadata": {},
   "outputs": [],
   "source": [
    "  \n",
    "'''\n",
    "The two arguments for this function are the files:\n",
    "    - currentMem: File containing list of current members\n",
    "    - exMem: File containing list of old members\n",
    "    \n",
    "    This function should remove all rows from currentMem containing 'no' \n",
    "    in the 'Active' column and appends them to exMem.\n",
    "    '''\n",
    "def cleanFiles(currentMem, exMem):\n",
    "    # TODO: Open the currentMem file as in r+ mode\n",
    "        #TODO: Open the exMem file in a+ mode\n",
    "\n",
    "        #TODO: Read each member in the currentMem (1 member per row) file into a list.\n",
    "        # Hint: Recall that the first line in the file is the header.\n",
    "\n",
    "        #TODO: iterate through the members and create a new list of the innactive members\n",
    "\n",
    "        # Go to the beginning of the currentMem file\n",
    "        # TODO: Iterate through the members list. \n",
    "        # If a member is inactive, add them to exMem, otherwise write them into currentMem\n",
    "\n",
    "        \n",
    "    \n",
    "    pass # Remove this line when done implementation\n",
    "\n",
    "\n",
    "# The code below is to help you view the files.\n",
    "# Do not modify this code for this exercise.\n",
    "memReg = '/members.txt'\n",
    "exReg = '/inactive.txt'\n",
    "cleanFiles(memReg,exReg)\n",
    "\n",
    "\n",
    "headers = \"Membership No  Date Joined  Active  \\n\"\n",
    "with open(memReg,'r') as readFile:\n",
    "    print(\"Active Members: \\n\\n\")\n",
    "    print(readFile.read())\n",
    "    \n",
    "with open(exReg,'r') as readFile:\n",
    "    print(\"Inactive Members: \\n\\n\")\n",
    "    print(readFile.read())\n",
    "                \n",
    "    "
   ]
  },
  {
   "cell_type": "raw",
   "id": "827098d1",
   "metadata": {},
   "source": [
    "This should be the answer:\n",
    "    \n",
    "    \n",
    "    Active Members: \n",
    "\n",
    "\n",
    "Membership No  Date Joined  Active  \n",
    "    10535      2020-3-12    no    \n",
    "    29474      2016-12-12   no    \n",
    "    12283      2016-10-20   no    \n",
    "    59886      2018-3-17    yes   \n",
    "    11899      2019-7-7     yes   \n",
    "    66226      2018-11-7    yes   \n",
    "    91938      2015-2-11    no    \n",
    "    95301      2015-8-7     no    \n",
    "    62359      2020-4-5     yes   \n",
    "    19295      2018-12-1    yes   \n",
    "    26804      2015-2-25    no    \n",
    "    11209      2015-9-25    yes   \n",
    "    33626      2017-4-2     no    \n",
    "    14883      2020-9-3     yes   \n",
    "    15033      2018-2-23    yes   \n",
    "    83608      2019-9-24    yes   \n",
    "    43588      2019-4-3     yes   \n",
    "    65988      2020-9-10    no    \n",
    "    97736      2019-10-18   no    \n",
    "    78206      2015-6-11    yes   \n",
    "\n",
    "Inactive Members: \n",
    "\n",
    "\n",
    "Membership No  Date Joined  Active  \n",
    "    34993      2015-6-3     no    \n",
    "    92188      2020-11-3    no    \n",
    "    90060      2016-10-12   no    "
   ]
  },
  {
   "cell_type": "markdown",
   "id": "718f6690",
   "metadata": {},
   "source": [
    "The code cell below is to verify your solution. Please do not modify the code and run it to test your implementation of cleanFiles.\n"
   ]
  },
  {
   "cell_type": "code",
   "execution_count": null,
   "id": "c0ca9f32",
   "metadata": {},
   "outputs": [],
   "source": [
    "def testMsg(passed):\n",
    "    if passed:\n",
    "       return 'Test Passed'\n",
    "    else :\n",
    "       return 'Test Failed'\n",
    "\n",
    "testWrite = \"/testWrite.txt\"\n",
    "testAppend = \"/testAppend.txt\" \n",
    "passed = True\n",
    "\n",
    "genFiles(testWrite,testAppend)\n",
    "\n",
    "with open(testWrite,'r') as file:\n",
    "    ogWrite = file.readlines()\n",
    "\n",
    "with open(testAppend,'r') as file:\n",
    "    ogAppend = file.readlines()\n",
    "\n",
    "try:\n",
    "    cleanFiles(testWrite,testAppend)\n",
    "except:\n",
    "    print('Error')\n",
    "\n",
    "with open(testWrite,'r') as file:\n",
    "    clWrite = file.readlines()\n",
    "\n",
    "with open(testAppend,'r') as file:\n",
    "    clAppend = file.readlines()\n",
    "        \n",
    "# checking if total no of rows is same, including headers\n",
    "\n",
    "if (len(ogWrite) + len(ogAppend) != len(clWrite) + len(clAppend)):\n",
    "    print(\"The number of rows do not add up. Make sure your final files have the same header and format.\")\n",
    "    passed = False\n",
    "    \n",
    "for line in clWrite:\n",
    "    if  'no' in line:\n",
    "        passed = False\n",
    "        print(\"Inactive members in file\")\n",
    "        break\n",
    "    else:\n",
    "        if line not in ogWrite:\n",
    "            print(\"Data in file does not match original file\")\n",
    "            passed = False\n",
    "print (\"{}\".format(testMsg(passed)))\n",
    "\n"
   ]
  },
  {
   "cell_type": "raw",
   "id": "de61bd91",
   "metadata": {},
   "source": [
    "This should be the outcome:\n",
    "    \n",
    "    Test Passed"
   ]
  },
  {
   "cell_type": "code",
   "execution_count": null,
   "id": "4f209c34",
   "metadata": {},
   "outputs": [],
   "source": [
    "# THIS IS THE SOLUTION:\n",
    "    \n",
    "\n",
    "def cleanFiles(currentMem,exMem):\n",
    "    with open(currentMem,'r+') as writeFile: \n",
    "        with open(exMem,'a+') as appendFile:\n",
    "            #get the data\n",
    "            writeFile.seek(0)\n",
    "            members = writeFile.readlines()\n",
    "            #remove header\n",
    "            header = members[0]\n",
    "            members.pop(0)\n",
    "                \n",
    "            inactive = [member for member in members if ('no' in member)]\n",
    "            '''\n",
    "            The above is the same as \n",
    "\n",
    "            for member in members:\n",
    "            if 'no' in member:\n",
    "                inactive.append(member)\n",
    "            '''\n",
    "            #go to the beginning of the write file\n",
    "            writeFile.seek(0) \n",
    "            writeFile.write(header)\n",
    "            for member in members:\n",
    "                if (member in inactive):\n",
    "                    appendFile.write(member)\n",
    "                else:\n",
    "                    writeFile.write(member)      \n",
    "            writeFile.truncate()\n",
    "                \n",
    "memReg = 'members.txt'\n",
    "exReg = 'inactive.txt'\n",
    "cleanFiles(memReg,exReg)\n",
    "\n",
    "# code to help you see the files\n",
    "\n",
    "headers = \"Membership No  Date Joined  Active  \\n\"\n",
    "\n",
    "with open(memReg,'r') as readFile:\n",
    "    print(\"Active Members: \\n\\n\")\n",
    "    print(readFile.read())\n",
    "    \n",
    "with open(exReg,'r') as readFile:\n",
    "    print(\"Inactive Members: \\n\\n\")\n",
    "    print(readFile.read())\n",
    "    \n",
    "\n"
   ]
  },
  {
   "cell_type": "markdown",
   "id": "c42d0cb5",
   "metadata": {},
   "source": [
    "# The last exercise!"
   ]
  },
  {
   "cell_type": "markdown",
   "id": "a2a095c6",
   "metadata": {},
   "source": [
    "Congratulations, you have completed this lesson and hands-on lab in Python. "
   ]
  },
  {
   "cell_type": "code",
   "execution_count": null,
   "id": "b4afcfe4",
   "metadata": {},
   "outputs": [],
   "source": []
  }
 ],
 "metadata": {
  "kernelspec": {
   "display_name": "Python 3 (ipykernel)",
   "language": "python",
   "name": "python3"
  },
  "language_info": {
   "codemirror_mode": {
    "name": "ipython",
    "version": 3
   },
   "file_extension": ".py",
   "mimetype": "text/x-python",
   "name": "python",
   "nbconvert_exporter": "python",
   "pygments_lexer": "ipython3",
   "version": "3.11.3"
  }
 },
 "nbformat": 4,
 "nbformat_minor": 5
}
