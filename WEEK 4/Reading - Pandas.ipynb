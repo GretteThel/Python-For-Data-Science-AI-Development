{
 "cells": [
  {
   "cell_type": "markdown",
   "id": "654e091f",
   "metadata": {},
   "source": [
    "# Reading: Pandas"
   ]
  },
  {
   "cell_type": "markdown",
   "id": "0c4649bf",
   "metadata": {},
   "source": [
    "# Introduction to Pandas for Data Analysis"
   ]
  },
  {
   "cell_type": "markdown",
   "id": "ee79c4e0",
   "metadata": {},
   "source": [
    "**Estimated time: 10 Mins**"
   ]
  },
  {
   "cell_type": "markdown",
   "id": "7b93a7d0",
   "metadata": {},
   "source": [
    "# Objective:"
   ]
  },
  {
   "cell_type": "markdown",
   "id": "297095b0",
   "metadata": {},
   "source": [
    "    1. Learn what Pandas Series are and how to create them.\n",
    "    2. Understand how to access and manipulate data within a Series.\n",
    "    3. Discover the basics of creating and working with Pandas DataFrames.\n",
    "    4. Learn how to access, modify, and analyze data in DataFrames.\n",
    "    5. Gain insights into common DataFrame attributes and methods."
   ]
  },
  {
   "cell_type": "markdown",
   "id": "1baf4ab0",
   "metadata": {},
   "source": [
    "# What is Pandas?"
   ]
  },
  {
   "cell_type": "markdown",
   "id": "0f5761ae",
   "metadata": {},
   "source": [
    "Pandas is a popular open-source data manipulation and analysis library for the Python programming language. It provides a powerful and flexible set of tools for working with structured data, making it a fundamental tool for data scientists, analysts, and engineers.\n",
    "\n",
    "Pandas is designed to handle data in various formats, such as tabular data, time series data, and more, making it an essential part of the data processing workflow in many industries."
   ]
  },
  {
   "cell_type": "markdown",
   "id": "540d31ce",
   "metadata": {},
   "source": [
    "Here are some **key features and functionalities of Pandas:**\n",
    "    \n",
    "**Data Structures:** Pandas offers two primary data structures - DataFrame and Series.\n",
    "\n",
    "    A DataFrame is a two-dimensional, size-mutable, and potentially heterogeneous tabular data structure with labeled axes (rows and columns).\n",
    "    A Series is a one-dimensional labeled array, essentially a single column or row of data.\n",
    "\n",
    "**Data Import and Export:** Pandas makes it easy to read data from various sources, including CSV files, Excel spreadsheets, SQL databases, and more. It can also export data to these formats, enabling seamless data exchange.\n",
    "\n",
    "**Data Merging and Joining:** You can combine multiple DataFrames using methods like merge and join, similar to SQL operations, to create more complex datasets from different sources.\n",
    "\n",
    "**Efficient Indexing:** Pandas provides efficient indexing and selection methods, allowing you to access specific rows and columns of data quickly.\n",
    "\n",
    "**Custom Data Structures:** You can create custom data structures and manipulate data in ways that suit your specific needs, extending Pandas' capabilities.    "
   ]
  },
  {
   "cell_type": "markdown",
   "id": "77cce0db",
   "metadata": {},
   "source": [
    "# Importing Pandas:"
   ]
  },
  {
   "cell_type": "markdown",
   "id": "237af022",
   "metadata": {},
   "source": [
    "Import Pandas using the import command, followed by the library's name.\n",
    "\n",
    "Commonly, Pandas is imported as pd for brevity in code."
   ]
  },
  {
   "cell_type": "code",
   "execution_count": null,
   "id": "c21cdf15",
   "metadata": {},
   "outputs": [],
   "source": [
    "import pandas as pd"
   ]
  },
  {
   "cell_type": "markdown",
   "id": "f81f3031",
   "metadata": {},
   "source": [
    "# Data Loading:"
   ]
  },
  {
   "cell_type": "markdown",
   "id": "859a9766",
   "metadata": {},
   "source": [
    "\n",
    "   - Pandas can be used to load data from various sources, such as CSV and Excel files.\n",
    "   - The read_csv function is used to load data from a CSV file into a Pandas DataFrame.\n",
    "\n",
    "To read a CSV (Comma-Separated Values) file in Python using the Pandas library, you can use the pd.read_csv() function. Here's the syntax to read a CSV file:"
   ]
  },
  {
   "cell_type": "code",
   "execution_count": null,
   "id": "527b98d7",
   "metadata": {},
   "outputs": [],
   "source": [
    "import pandas as pd\n",
    "\n",
    "# Read the CSV file into a DataFrame\n",
    "df = pd.read_csv('your_file.csv')"
   ]
  },
  {
   "cell_type": "markdown",
   "id": "c92ee48e",
   "metadata": {},
   "source": [
    "Replace 'your_file.csv' with the actual file path of your CSV file. Make sure that the file is located in the same directory as your Python script, or you provide the correct file path."
   ]
  },
  {
   "cell_type": "markdown",
   "id": "0ba58163",
   "metadata": {},
   "source": [
    "# What is a Series?"
   ]
  },
  {
   "cell_type": "markdown",
   "id": "4bf07379",
   "metadata": {},
   "source": [
    "A **Series** is a one-dimensional labeled array in Pandas. It can be thought of as a single column of data with labels or indices for each element. You can create a Series from various data sources, such as lists, NumPy arrays, or dictionaries\n",
    "\n",
    "Here's a basic example of creating a Series in Pandas:"
   ]
  },
  {
   "cell_type": "code",
   "execution_count": null,
   "id": "914c6e1c",
   "metadata": {},
   "outputs": [],
   "source": [
    "import pandas as pd\n",
    "\n",
    "# Create a Series from a list\n",
    "data = [10, 20, 30, 40, 50]\n",
    "s = pd.Series(data)\n",
    "\n",
    "print(s)"
   ]
  },
  {
   "cell_type": "markdown",
   "id": "daa37e35",
   "metadata": {},
   "source": [
    "In this example, we've created a Series named s with numeric data. Notice that Pandas automatically assigned numerical indices (0, 1, 2, 3, 4) to each element, but you can also specify custom labels if needed."
   ]
  },
  {
   "cell_type": "markdown",
   "id": "f7fd082a",
   "metadata": {},
   "source": [
    "# Accessing Elements in a Series"
   ]
  },
  {
   "cell_type": "markdown",
   "id": "799354ea",
   "metadata": {},
   "source": [
    "You can access elements in a Series using the index labels or integer positions. Here are a few common methods for accessing Series data:"
   ]
  },
  {
   "cell_type": "markdown",
   "id": "2c489035",
   "metadata": {},
   "source": [
    "**Accessing by label**"
   ]
  },
  {
   "cell_type": "code",
   "execution_count": null,
   "id": "bf84cd45",
   "metadata": {},
   "outputs": [],
   "source": [
    "print(s[2])     # Access the element with label 2 (value 30)"
   ]
  },
  {
   "cell_type": "markdown",
   "id": "b72b2dab",
   "metadata": {},
   "source": [
    "**Accessing by position**"
   ]
  },
  {
   "cell_type": "code",
   "execution_count": null,
   "id": "613435f7",
   "metadata": {},
   "outputs": [],
   "source": [
    "print(s.iloc[3]) # Access the element at position 3 (value 40)"
   ]
  },
  {
   "cell_type": "markdown",
   "id": "9d5f6e46",
   "metadata": {},
   "source": [
    "**Accessing multiple elements**"
   ]
  },
  {
   "cell_type": "code",
   "execution_count": null,
   "id": "631952cd",
   "metadata": {},
   "outputs": [],
   "source": [
    "print(s[1:4])   # Access a range of elements by label"
   ]
  },
  {
   "cell_type": "markdown",
   "id": "d7faf3eb",
   "metadata": {},
   "source": [
    "# Series Attributes and Methods"
   ]
  },
  {
   "cell_type": "markdown",
   "id": "654cc7fc",
   "metadata": {},
   "source": [
    "**Pandas Series** come with various attributes and methods to help you manipulate and analyze data effectively. Here are a few essential ones:\n",
    " \n",
    "   **values:** Returns the Series data as a NumPy array.\n",
    "   \n",
    "   **index:** Returns the index (labels) of the Series.\n",
    "   \n",
    "   **shape:** Returns a tuple representing the dimensions of the Series.\n",
    "   \n",
    "   **size:** Returns the number of elements in the Series.\n",
    "   \n",
    "   **mean(), sum(), min(), max():** Calculate summary statistics of the data.\n",
    "   \n",
    "   **unique(), nunique():** Get unique values or the number of unique values.\n",
    "   \n",
    "   **sort_values(), sort_index():** Sort the Series by values or index labels.\n",
    "   \n",
    "   **isnull(), notnull():** Check for missing (NaN) or non-missing values.\n",
    "   \n",
    "   **apply():** Apply a custom function to each element of the Series.\n",
    "   \n",
    "  "
   ]
  },
  {
   "cell_type": "markdown",
   "id": "01d64f7f",
   "metadata": {},
   "source": [
    "# What is a DataFrames?"
   ]
  },
  {
   "cell_type": "markdown",
   "id": "1a7abec6",
   "metadata": {},
   "source": [
    "A **DataFrame** is a two-dimensional labeled data structure with columns of potentially different data types. Think of it as a table where each column represents a variable, and each row represents an observation or data point. DataFrames are suitable for a wide range of data, including structured data from CSV files, Excel spreadsheets, SQL databases, and more."
   ]
  },
  {
   "cell_type": "markdown",
   "id": "a6609fa8",
   "metadata": {},
   "source": [
    "# Creating DataFrames from Dictionaries:"
   ]
  },
  {
   "cell_type": "markdown",
   "id": "656a8b9b",
   "metadata": {},
   "source": [
    "DataFrames can be created from dictionaries, with keys as column labels and values as lists representing rows."
   ]
  },
  {
   "cell_type": "code",
   "execution_count": null,
   "id": "dd7fbeef",
   "metadata": {},
   "outputs": [],
   "source": [
    "import pandas as pd\n",
    "\n",
    "# Creating a DataFrame from a dictionary\n",
    "data = {'Name': ['Alice', 'Bob', 'Charlie', 'David'],\n",
    "        'Age': [25, 30, 35, 28],\n",
    "        'City': ['New York', 'San Francisco', 'Los Angeles', 'Chicago']}\n",
    "\n",
    "df = pd.DataFrame(data)\n",
    "\n",
    "print(df)\n"
   ]
  },
  {
   "cell_type": "markdown",
   "id": "5c6760d6",
   "metadata": {},
   "source": [
    "# Column Selection:"
   ]
  },
  {
   "cell_type": "markdown",
   "id": "473ca126",
   "metadata": {},
   "source": [
    "You can select a single column from a DataFrame by specifying the column name within double brackets.\n",
    "Multiple columns can be selected in a similar manner, creating a new DataFrame."
   ]
  },
  {
   "cell_type": "code",
   "execution_count": null,
   "id": "a9ed2470",
   "metadata": {},
   "outputs": [],
   "source": [
    "print(df['Name'])  # Access the 'Name' column"
   ]
  },
  {
   "cell_type": "markdown",
   "id": "40c07274",
   "metadata": {},
   "source": [
    "**Accessing Rows:**"
   ]
  },
  {
   "cell_type": "markdown",
   "id": "eca10302",
   "metadata": {},
   "source": [
    "You can access rows by their index using .iloc[] or by label using .loc[]."
   ]
  },
  {
   "cell_type": "code",
   "execution_count": null,
   "id": "410d76e8",
   "metadata": {},
   "outputs": [],
   "source": [
    "print(df.iloc[2])   # Access the third row by position\n",
    "print(df.loc[1])    # Access the second row by label"
   ]
  },
  {
   "cell_type": "markdown",
   "id": "ec6798c8",
   "metadata": {},
   "source": [
    "**Slicing:**"
   ]
  },
  {
   "cell_type": "markdown",
   "id": "4a030571",
   "metadata": {},
   "source": [
    "# Finding Unique Elements:"
   ]
  },
  {
   "cell_type": "markdown",
   "id": "0ae41904",
   "metadata": {},
   "source": [
    "Use the unique method to determine the unique elements in a column of a DataFrame."
   ]
  },
  {
   "cell_type": "code",
   "execution_count": null,
   "id": "a2f104fb",
   "metadata": {},
   "outputs": [],
   "source": [
    "unique_dates = df['Age'].unique()"
   ]
  },
  {
   "cell_type": "markdown",
   "id": "f803fc9d",
   "metadata": {},
   "source": [
    "# Conditional Filtering:"
   ]
  },
  {
   "cell_type": "markdown",
   "id": "a37f6be3",
   "metadata": {},
   "source": [
    "You can filter data in a DataFrame based on conditions using inequality operators.\n",
    "\n",
    "For instance, you can filter albums released after a certain year."
   ]
  },
  {
   "cell_type": "code",
   "execution_count": null,
   "id": "545bce34",
   "metadata": {},
   "outputs": [],
   "source": [
    "high_above_102 = df[df['Age'] > 25]"
   ]
  },
  {
   "cell_type": "markdown",
   "id": "b6108013",
   "metadata": {},
   "source": [
    "# Saving DataFrames:"
   ]
  },
  {
   "cell_type": "markdown",
   "id": "d691ca64",
   "metadata": {},
   "source": [
    "To save a DataFrame to a CSV file, use the to_csv method and specify the filename with a “.csv” extension.Pandas provides other functions for saving DataFrames in different formats."
   ]
  },
  {
   "cell_type": "code",
   "execution_count": null,
   "id": "91aa5fe6",
   "metadata": {},
   "outputs": [],
   "source": [
    "df.to_csv('trading_data.csv', index=False)"
   ]
  },
  {
   "cell_type": "markdown",
   "id": "c82313b1",
   "metadata": {},
   "source": [
    "# DataFrame Attributes and Methods"
   ]
  },
  {
   "cell_type": "markdown",
   "id": "d5368b38",
   "metadata": {},
   "source": [
    "DataFrames provide numerous attributes and methods for data manipulation and analysis, including:\n",
    "\n",
    "   **shape:** Returns the dimensions (number of rows and columns) of the DataFrame.\n",
    "   \n",
    "   **info():** Provides a summary of the DataFrame, including data types and non-null counts.\n",
    "   \n",
    "   **describe():** Generates summary statistics for numerical columns.\n",
    "   \n",
    "   **head(), tail():** Displays the first or last n rows of the DataFrame.\n",
    "   \n",
    "   **mean(), sum(), min(), max():** Calculate summary statistics for columns.\n",
    "   \n",
    "   **sort_values():** Sort the DataFrame by one or more columns.\n",
    "   \n",
    "   **groupby():** Group data based on specific columns for aggregation.\n",
    "   \n",
    "   **fillna(), drop(), rename():** Handle missing values, drop columns, or rename columns.\n",
    "   \n",
    "   **apply():** Apply a function to each element, row, or column of the DataFrame.\n",
    "\n",
    "   "
   ]
  },
  {
   "cell_type": "markdown",
   "id": "7c8569f0",
   "metadata": {},
   "source": [
    " *Pandas offers a wide range of methods beyond these examples. For more detailed information, please refer to the official documentation available on the Pandas official website.*\n"
   ]
  },
  {
   "cell_type": "markdown",
   "id": "567607d0",
   "metadata": {},
   "source": [
    "# Conclusion"
   ]
  },
  {
   "cell_type": "markdown",
   "id": "be62469c",
   "metadata": {},
   "source": [
    "In conclusion, mastering the use of Pandas Series and DataFrames is essential for effective data manipulation and analysis in Python. Series provide a foundation for handling one-dimensional data with labels, while DataFrames offer a versatile, table-like structure for working with two-dimensional data. Whether you're cleaning, exploring, transforming, or analyzing data, these Pandas data structures, along with their attributes and methods, empower you to efficiently and flexibly manipulate data to derive valuable insights. By incorporating Series and DataFrames into your data science toolkit, you'll be well-prepared to tackle a wide range of data-related tasks and enhance your data analysis capabilities.\n",
    "To further your skills in data analysis with Pandas, consider the following next steps:"
   ]
  },
  {
   "cell_type": "markdown",
   "id": "5ca42261",
   "metadata": {},
   "source": [
    "**Practice:**"
   ]
  },
  {
   "cell_type": "markdown",
   "id": "e136957f",
   "metadata": {},
   "source": [
    "Work with real datasets to apply what you've learned and gain hands-on experience."
   ]
  },
  {
   "cell_type": "markdown",
   "id": "37f314e1",
   "metadata": {},
   "source": [
    "**Explore Documentation:**"
   ]
  },
  {
   "cell_type": "markdown",
   "id": "b3a8b066",
   "metadata": {},
   "source": [
    "Visit the *Pandas official website* to explore the extensive documentation and discover more functions and methods."
   ]
  },
  {
   "cell_type": "markdown",
   "id": "f1e2f57b",
   "metadata": {},
   "source": [
    "# Author"
   ]
  },
  {
   "cell_type": "markdown",
   "id": "421e6a78",
   "metadata": {},
   "source": [
    "# Changelog"
   ]
  },
  {
   "cell_type": "markdown",
   "id": "188a6088",
   "metadata": {},
   "source": [
    "**Date          \tVersion \t Changed by      \tChange Description**\n",
    "\n",
    "2023-10-02 \t          1.0 \t   Akansha Yadav \t       Created Reading"
   ]
  }
 ],
 "metadata": {
  "kernelspec": {
   "display_name": "Python 3 (ipykernel)",
   "language": "python",
   "name": "python3"
  },
  "language_info": {
   "codemirror_mode": {
    "name": "ipython",
    "version": 3
   },
   "file_extension": ".py",
   "mimetype": "text/x-python",
   "name": "python",
   "nbconvert_exporter": "python",
   "pygments_lexer": "ipython3",
   "version": "3.11.3"
  }
 },
 "nbformat": 4,
 "nbformat_minor": 5
}
